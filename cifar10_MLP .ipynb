{
  "nbformat": 4,
  "nbformat_minor": 0,
  "metadata": {
    "accelerator": "GPU",
    "colab": {
      "name": "cifar_10_MLP.ipynb",
      "provenance": []
    },
    "kernelspec": {
      "display_name": "Python 3",
      "name": "python3"
    },
    "language_info": {
      "name": "python"
    }
  },
  "cells": [
    {
      "cell_type": "code",
      "metadata": {
        "id": "LlouZwyfmlGW"
      },
      "source": [
        "import keras\n",
        "from keras.models import Sequential\n",
        "from keras.layers import Dense, Dropout\n",
        "from tensorflow.keras.utils import to_categorical\n",
        "from tensorflow.keras.datasets import cifar10"
      ],
      "execution_count": 1,
      "outputs": []
    },
    {
      "cell_type": "code",
      "metadata": {
        "id": "o82UK3Wzm4u-"
      },
      "source": [
        "(x_train, y_train), (x_test, y_test) = cifar10.load_data()"
      ],
      "execution_count": 2,
      "outputs": []
    },
    {
      "cell_type": "code",
      "metadata": {
        "colab": {
          "base_uri": "https://localhost:8080/"
        },
        "id": "dr12lPujoAPp",
        "outputId": "6c76360e-cfa9-4043-bd81-b9df59f08c37"
      },
      "source": [
        "print(x_train.shape)\n",
        "print(y_train.shape)\n",
        "print(x_test.shape)\n",
        "print(y_test.shape)"
      ],
      "execution_count": 3,
      "outputs": [
        {
          "output_type": "stream",
          "name": "stdout",
          "text": [
            "(50000, 32, 32, 3)\n",
            "(50000, 1)\n",
            "(10000, 32, 32, 3)\n",
            "(10000, 1)\n"
          ]
        }
      ]
    },
    {
      "cell_type": "code",
      "metadata": {
        "id": "bLgJ12blpT2F"
      },
      "source": [
        "x_train = x_train.reshape(50000,3072).astype('float32')\n",
        "x_test = x_test.reshape(10000,3072).astype('float32')"
      ],
      "execution_count": 4,
      "outputs": []
    },
    {
      "cell_type": "code",
      "metadata": {
        "id": "DuyS5ts5pzUv"
      },
      "source": [
        "x_train/=255\n",
        "x_test/=255"
      ],
      "execution_count": 5,
      "outputs": []
    },
    {
      "cell_type": "code",
      "metadata": {
        "id": "6yceoscPsUQN"
      },
      "source": [
        "y_train = to_categorical(y_train, 10)\n",
        "y_test = to_categorical(y_test, 10)"
      ],
      "execution_count": 6,
      "outputs": []
    },
    {
      "cell_type": "code",
      "metadata": {
        "colab": {
          "base_uri": "https://localhost:8080/"
        },
        "id": "yjBcFgtrrJLN",
        "outputId": "933f0a67-4671-4ce1-a357-32c3dceb0ccc"
      },
      "source": [
        "model = Sequential()\n",
        "model.add(Dense(2048, activation='relu', input_dim = 3072))\n",
        "model.add(Dense(1024, activation='relu'))\n",
        "model.add(Dropout(0.2))\n",
        "model.add(Dense(512, activation='relu'))\n",
        "model.add(Dropout(0.2))\n",
        "model.add(Dense(10, activation='softmax'))\n",
        "model.compile(optimizer='adam', loss='categorical_crossentropy', metrics=['accuracy'])\n",
        "model.summary()"
      ],
      "execution_count": 7,
      "outputs": [
        {
          "output_type": "stream",
          "name": "stdout",
          "text": [
            "Model: \"sequential\"\n",
            "_________________________________________________________________\n",
            " Layer (type)                Output Shape              Param #   \n",
            "=================================================================\n",
            " dense (Dense)               (None, 2048)              6293504   \n",
            "                                                                 \n",
            " dense_1 (Dense)             (None, 1024)              2098176   \n",
            "                                                                 \n",
            " dropout (Dropout)           (None, 1024)              0         \n",
            "                                                                 \n",
            " dense_2 (Dense)             (None, 512)               524800    \n",
            "                                                                 \n",
            " dropout_1 (Dropout)         (None, 512)               0         \n",
            "                                                                 \n",
            " dense_3 (Dense)             (None, 10)                5130      \n",
            "                                                                 \n",
            "=================================================================\n",
            "Total params: 8,921,610\n",
            "Trainable params: 8,921,610\n",
            "Non-trainable params: 0\n",
            "_________________________________________________________________\n"
          ]
        }
      ]
    },
    {
      "cell_type": "code",
      "metadata": {
        "colab": {
          "base_uri": "https://localhost:8080/"
        },
        "id": "31XuhhQqrRZM",
        "outputId": "31c12d41-b777-41a4-99e8-56012588939d"
      },
      "source": [
        "history=model.fit(x_train, y_train, batch_size=64, epochs=100, validation_split=0.2)"
      ],
      "execution_count": 8,
      "outputs": [
        {
          "output_type": "stream",
          "name": "stdout",
          "text": [
            "Epoch 1/100\n",
            "625/625 [==============================] - 7s 10ms/step - loss: 1.9640 - accuracy: 0.2900 - val_loss: 1.8090 - val_accuracy: 0.3514\n",
            "Epoch 2/100\n",
            "625/625 [==============================] - 5s 9ms/step - loss: 1.7412 - accuracy: 0.3728 - val_loss: 1.7646 - val_accuracy: 0.3702\n",
            "Epoch 3/100\n",
            "625/625 [==============================] - 5s 9ms/step - loss: 1.6691 - accuracy: 0.4013 - val_loss: 1.6294 - val_accuracy: 0.4204\n",
            "Epoch 4/100\n",
            "625/625 [==============================] - 5s 9ms/step - loss: 1.6048 - accuracy: 0.4258 - val_loss: 1.5770 - val_accuracy: 0.4351\n",
            "Epoch 5/100\n",
            "625/625 [==============================] - 5s 9ms/step - loss: 1.5586 - accuracy: 0.4407 - val_loss: 1.5364 - val_accuracy: 0.4541\n",
            "Epoch 6/100\n",
            "625/625 [==============================] - 5s 9ms/step - loss: 1.5309 - accuracy: 0.4509 - val_loss: 1.5634 - val_accuracy: 0.4434\n",
            "Epoch 7/100\n",
            "625/625 [==============================] - 5s 9ms/step - loss: 1.4945 - accuracy: 0.4646 - val_loss: 1.5015 - val_accuracy: 0.4636\n",
            "Epoch 8/100\n",
            "625/625 [==============================] - 5s 9ms/step - loss: 1.4726 - accuracy: 0.4725 - val_loss: 1.5245 - val_accuracy: 0.4609\n",
            "Epoch 9/100\n",
            "625/625 [==============================] - 5s 9ms/step - loss: 1.4466 - accuracy: 0.4797 - val_loss: 1.4993 - val_accuracy: 0.4708\n",
            "Epoch 10/100\n",
            "625/625 [==============================] - 5s 9ms/step - loss: 1.4197 - accuracy: 0.4893 - val_loss: 1.4695 - val_accuracy: 0.4811\n",
            "Epoch 11/100\n",
            "625/625 [==============================] - 5s 9ms/step - loss: 1.3977 - accuracy: 0.4965 - val_loss: 1.4836 - val_accuracy: 0.4733\n",
            "Epoch 12/100\n",
            "625/625 [==============================] - 5s 9ms/step - loss: 1.3752 - accuracy: 0.5060 - val_loss: 1.4807 - val_accuracy: 0.4757\n",
            "Epoch 13/100\n",
            "625/625 [==============================] - 5s 9ms/step - loss: 1.3546 - accuracy: 0.5116 - val_loss: 1.4736 - val_accuracy: 0.4787\n",
            "Epoch 14/100\n",
            "625/625 [==============================] - 5s 9ms/step - loss: 1.3390 - accuracy: 0.5185 - val_loss: 1.4537 - val_accuracy: 0.4871\n",
            "Epoch 15/100\n",
            "625/625 [==============================] - 5s 9ms/step - loss: 1.3246 - accuracy: 0.5230 - val_loss: 1.4642 - val_accuracy: 0.4838\n",
            "Epoch 16/100\n",
            "625/625 [==============================] - 5s 9ms/step - loss: 1.3083 - accuracy: 0.5289 - val_loss: 1.4734 - val_accuracy: 0.4897\n",
            "Epoch 17/100\n",
            "625/625 [==============================] - 5s 9ms/step - loss: 1.2748 - accuracy: 0.5376 - val_loss: 1.4522 - val_accuracy: 0.4942\n",
            "Epoch 18/100\n",
            "625/625 [==============================] - 5s 9ms/step - loss: 1.2689 - accuracy: 0.5419 - val_loss: 1.5315 - val_accuracy: 0.4793\n",
            "Epoch 19/100\n",
            "625/625 [==============================] - 5s 9ms/step - loss: 1.2436 - accuracy: 0.5492 - val_loss: 1.4681 - val_accuracy: 0.4947\n",
            "Epoch 20/100\n",
            "625/625 [==============================] - 5s 9ms/step - loss: 1.2370 - accuracy: 0.5542 - val_loss: 1.4816 - val_accuracy: 0.4845\n",
            "Epoch 21/100\n",
            "625/625 [==============================] - 5s 9ms/step - loss: 1.2105 - accuracy: 0.5634 - val_loss: 1.4724 - val_accuracy: 0.4969\n",
            "Epoch 22/100\n",
            "625/625 [==============================] - 5s 9ms/step - loss: 1.1917 - accuracy: 0.5670 - val_loss: 1.4755 - val_accuracy: 0.4904\n",
            "Epoch 23/100\n",
            "625/625 [==============================] - 5s 9ms/step - loss: 1.1754 - accuracy: 0.5742 - val_loss: 1.5024 - val_accuracy: 0.4856\n",
            "Epoch 24/100\n",
            "625/625 [==============================] - 5s 9ms/step - loss: 1.1639 - accuracy: 0.5807 - val_loss: 1.4915 - val_accuracy: 0.4938\n",
            "Epoch 25/100\n",
            "625/625 [==============================] - 5s 9ms/step - loss: 1.1514 - accuracy: 0.5811 - val_loss: 1.4913 - val_accuracy: 0.4895\n",
            "Epoch 26/100\n",
            "625/625 [==============================] - 5s 9ms/step - loss: 1.1326 - accuracy: 0.5901 - val_loss: 1.5006 - val_accuracy: 0.4932\n",
            "Epoch 27/100\n",
            "625/625 [==============================] - 5s 9ms/step - loss: 1.1150 - accuracy: 0.5956 - val_loss: 1.5336 - val_accuracy: 0.4825\n",
            "Epoch 28/100\n",
            "625/625 [==============================] - 5s 9ms/step - loss: 1.0956 - accuracy: 0.6040 - val_loss: 1.5392 - val_accuracy: 0.4959\n",
            "Epoch 29/100\n",
            "625/625 [==============================] - 5s 9ms/step - loss: 1.0884 - accuracy: 0.6053 - val_loss: 1.5810 - val_accuracy: 0.4820\n",
            "Epoch 30/100\n",
            "625/625 [==============================] - 5s 9ms/step - loss: 1.0764 - accuracy: 0.6089 - val_loss: 1.5331 - val_accuracy: 0.4972\n",
            "Epoch 31/100\n",
            "625/625 [==============================] - 5s 9ms/step - loss: 1.0580 - accuracy: 0.6122 - val_loss: 1.5587 - val_accuracy: 0.4862\n",
            "Epoch 32/100\n",
            "625/625 [==============================] - 5s 9ms/step - loss: 1.0351 - accuracy: 0.6228 - val_loss: 1.5564 - val_accuracy: 0.4890\n",
            "Epoch 33/100\n",
            "625/625 [==============================] - 5s 9ms/step - loss: 1.0316 - accuracy: 0.6251 - val_loss: 1.6018 - val_accuracy: 0.4809\n",
            "Epoch 34/100\n",
            "625/625 [==============================] - 5s 9ms/step - loss: 1.0134 - accuracy: 0.6291 - val_loss: 1.5956 - val_accuracy: 0.4974\n",
            "Epoch 35/100\n",
            "625/625 [==============================] - 5s 9ms/step - loss: 1.0032 - accuracy: 0.6349 - val_loss: 1.5988 - val_accuracy: 0.4944\n",
            "Epoch 36/100\n",
            "625/625 [==============================] - 5s 9ms/step - loss: 0.9830 - accuracy: 0.6427 - val_loss: 1.6065 - val_accuracy: 0.4888\n",
            "Epoch 37/100\n",
            "625/625 [==============================] - 5s 9ms/step - loss: 0.9759 - accuracy: 0.6442 - val_loss: 1.6151 - val_accuracy: 0.5011\n",
            "Epoch 38/100\n",
            "625/625 [==============================] - 5s 9ms/step - loss: 0.9642 - accuracy: 0.6503 - val_loss: 1.6236 - val_accuracy: 0.4848\n",
            "Epoch 39/100\n",
            "625/625 [==============================] - 5s 9ms/step - loss: 0.9521 - accuracy: 0.6525 - val_loss: 1.6555 - val_accuracy: 0.4888\n",
            "Epoch 40/100\n",
            "625/625 [==============================] - 5s 9ms/step - loss: 0.9491 - accuracy: 0.6529 - val_loss: 1.6485 - val_accuracy: 0.4837\n",
            "Epoch 41/100\n",
            "625/625 [==============================] - 5s 9ms/step - loss: 0.9295 - accuracy: 0.6614 - val_loss: 1.6342 - val_accuracy: 0.4951\n",
            "Epoch 42/100\n",
            "625/625 [==============================] - 5s 9ms/step - loss: 0.9153 - accuracy: 0.6679 - val_loss: 1.6839 - val_accuracy: 0.4874\n",
            "Epoch 43/100\n",
            "625/625 [==============================] - 5s 9ms/step - loss: 0.9149 - accuracy: 0.6678 - val_loss: 1.7290 - val_accuracy: 0.4893\n",
            "Epoch 44/100\n",
            "625/625 [==============================] - 5s 9ms/step - loss: 0.9035 - accuracy: 0.6718 - val_loss: 1.7088 - val_accuracy: 0.4894\n",
            "Epoch 45/100\n",
            "625/625 [==============================] - 5s 9ms/step - loss: 0.8852 - accuracy: 0.6764 - val_loss: 1.7004 - val_accuracy: 0.4825\n",
            "Epoch 46/100\n",
            "625/625 [==============================] - 5s 9ms/step - loss: 0.8800 - accuracy: 0.6809 - val_loss: 1.7157 - val_accuracy: 0.4897\n",
            "Epoch 47/100\n",
            "625/625 [==============================] - 5s 9ms/step - loss: 0.8744 - accuracy: 0.6816 - val_loss: 1.7212 - val_accuracy: 0.4802\n",
            "Epoch 48/100\n",
            "625/625 [==============================] - 5s 9ms/step - loss: 0.8697 - accuracy: 0.6836 - val_loss: 1.7077 - val_accuracy: 0.4884\n",
            "Epoch 49/100\n",
            "625/625 [==============================] - 5s 9ms/step - loss: 0.8578 - accuracy: 0.6875 - val_loss: 1.7314 - val_accuracy: 0.4862\n",
            "Epoch 50/100\n",
            "625/625 [==============================] - 5s 9ms/step - loss: 0.8475 - accuracy: 0.6914 - val_loss: 1.7927 - val_accuracy: 0.4771\n",
            "Epoch 51/100\n",
            "625/625 [==============================] - 5s 9ms/step - loss: 0.8473 - accuracy: 0.6914 - val_loss: 1.7479 - val_accuracy: 0.4835\n",
            "Epoch 52/100\n",
            "625/625 [==============================] - 5s 9ms/step - loss: 0.8318 - accuracy: 0.6957 - val_loss: 1.8004 - val_accuracy: 0.4912\n",
            "Epoch 53/100\n",
            "625/625 [==============================] - 5s 9ms/step - loss: 0.8208 - accuracy: 0.7009 - val_loss: 1.7822 - val_accuracy: 0.4880\n",
            "Epoch 54/100\n",
            "625/625 [==============================] - 5s 9ms/step - loss: 0.8157 - accuracy: 0.7046 - val_loss: 1.8478 - val_accuracy: 0.4865\n",
            "Epoch 55/100\n",
            "625/625 [==============================] - 5s 9ms/step - loss: 0.8103 - accuracy: 0.7057 - val_loss: 1.8579 - val_accuracy: 0.4809\n",
            "Epoch 56/100\n",
            "625/625 [==============================] - 5s 9ms/step - loss: 0.8117 - accuracy: 0.7053 - val_loss: 1.8241 - val_accuracy: 0.4826\n",
            "Epoch 57/100\n",
            "625/625 [==============================] - 5s 9ms/step - loss: 0.8005 - accuracy: 0.7090 - val_loss: 1.8690 - val_accuracy: 0.4809\n",
            "Epoch 58/100\n",
            "625/625 [==============================] - 5s 9ms/step - loss: 0.7985 - accuracy: 0.7098 - val_loss: 1.8445 - val_accuracy: 0.4831\n",
            "Epoch 59/100\n",
            "625/625 [==============================] - 5s 9ms/step - loss: 0.7753 - accuracy: 0.7201 - val_loss: 1.9311 - val_accuracy: 0.4853\n",
            "Epoch 60/100\n",
            "625/625 [==============================] - 5s 9ms/step - loss: 0.7768 - accuracy: 0.7170 - val_loss: 1.8708 - val_accuracy: 0.4880\n",
            "Epoch 61/100\n",
            "625/625 [==============================] - 5s 9ms/step - loss: 0.7702 - accuracy: 0.7226 - val_loss: 1.9224 - val_accuracy: 0.4894\n",
            "Epoch 62/100\n",
            "625/625 [==============================] - 5s 9ms/step - loss: 0.7672 - accuracy: 0.7203 - val_loss: 1.9356 - val_accuracy: 0.4831\n",
            "Epoch 63/100\n",
            "625/625 [==============================] - 5s 9ms/step - loss: 0.7572 - accuracy: 0.7238 - val_loss: 1.9027 - val_accuracy: 0.4850\n",
            "Epoch 64/100\n",
            "625/625 [==============================] - 5s 9ms/step - loss: 0.7609 - accuracy: 0.7245 - val_loss: 1.9487 - val_accuracy: 0.4746\n",
            "Epoch 65/100\n",
            "625/625 [==============================] - 5s 9ms/step - loss: 0.7494 - accuracy: 0.7311 - val_loss: 1.9565 - val_accuracy: 0.4843\n",
            "Epoch 66/100\n",
            "625/625 [==============================] - 5s 9ms/step - loss: 0.7434 - accuracy: 0.7300 - val_loss: 1.9360 - val_accuracy: 0.4734\n",
            "Epoch 67/100\n",
            "625/625 [==============================] - 6s 9ms/step - loss: 0.7450 - accuracy: 0.7301 - val_loss: 1.9562 - val_accuracy: 0.4855\n",
            "Epoch 68/100\n",
            "625/625 [==============================] - 5s 9ms/step - loss: 0.7478 - accuracy: 0.7309 - val_loss: 1.9451 - val_accuracy: 0.4910\n",
            "Epoch 69/100\n",
            "625/625 [==============================] - 5s 9ms/step - loss: 0.7261 - accuracy: 0.7373 - val_loss: 2.0029 - val_accuracy: 0.4738\n",
            "Epoch 70/100\n",
            "625/625 [==============================] - 6s 9ms/step - loss: 0.7311 - accuracy: 0.7360 - val_loss: 1.9515 - val_accuracy: 0.4826\n",
            "Epoch 71/100\n",
            "625/625 [==============================] - 5s 9ms/step - loss: 0.7175 - accuracy: 0.7412 - val_loss: 1.9943 - val_accuracy: 0.4819\n",
            "Epoch 72/100\n",
            "625/625 [==============================] - 5s 9ms/step - loss: 0.7233 - accuracy: 0.7379 - val_loss: 2.0431 - val_accuracy: 0.4761\n",
            "Epoch 73/100\n",
            "625/625 [==============================] - 6s 9ms/step - loss: 0.7134 - accuracy: 0.7448 - val_loss: 1.9793 - val_accuracy: 0.4801\n",
            "Epoch 74/100\n",
            "625/625 [==============================] - 6s 9ms/step - loss: 0.7044 - accuracy: 0.7442 - val_loss: 2.0219 - val_accuracy: 0.4807\n",
            "Epoch 75/100\n",
            "625/625 [==============================] - 6s 9ms/step - loss: 0.7027 - accuracy: 0.7482 - val_loss: 1.9985 - val_accuracy: 0.4845\n",
            "Epoch 76/100\n",
            "625/625 [==============================] - 6s 9ms/step - loss: 0.7053 - accuracy: 0.7470 - val_loss: 2.0163 - val_accuracy: 0.4774\n",
            "Epoch 77/100\n",
            "625/625 [==============================] - 6s 9ms/step - loss: 0.7016 - accuracy: 0.7474 - val_loss: 2.0390 - val_accuracy: 0.4834\n",
            "Epoch 78/100\n",
            "625/625 [==============================] - 5s 9ms/step - loss: 0.6972 - accuracy: 0.7509 - val_loss: 2.0001 - val_accuracy: 0.4913\n",
            "Epoch 79/100\n",
            "625/625 [==============================] - 5s 9ms/step - loss: 0.6920 - accuracy: 0.7489 - val_loss: 2.0457 - val_accuracy: 0.4835\n",
            "Epoch 80/100\n",
            "625/625 [==============================] - 5s 9ms/step - loss: 0.6803 - accuracy: 0.7533 - val_loss: 2.0711 - val_accuracy: 0.4855\n",
            "Epoch 81/100\n",
            "625/625 [==============================] - 5s 9ms/step - loss: 0.6734 - accuracy: 0.7558 - val_loss: 2.1071 - val_accuracy: 0.4800\n",
            "Epoch 82/100\n",
            "625/625 [==============================] - 5s 9ms/step - loss: 0.6789 - accuracy: 0.7552 - val_loss: 2.1072 - val_accuracy: 0.4733\n",
            "Epoch 83/100\n",
            "625/625 [==============================] - 5s 9ms/step - loss: 0.6768 - accuracy: 0.7574 - val_loss: 2.0673 - val_accuracy: 0.4832\n",
            "Epoch 84/100\n",
            "625/625 [==============================] - 5s 9ms/step - loss: 0.6567 - accuracy: 0.7634 - val_loss: 2.1378 - val_accuracy: 0.4797\n",
            "Epoch 85/100\n",
            "625/625 [==============================] - 6s 9ms/step - loss: 0.6625 - accuracy: 0.7616 - val_loss: 2.1309 - val_accuracy: 0.4811\n",
            "Epoch 86/100\n",
            "625/625 [==============================] - 5s 9ms/step - loss: 0.6763 - accuracy: 0.7595 - val_loss: 2.0814 - val_accuracy: 0.4760\n",
            "Epoch 87/100\n",
            "625/625 [==============================] - 6s 9ms/step - loss: 0.6450 - accuracy: 0.7675 - val_loss: 2.1761 - val_accuracy: 0.4826\n",
            "Epoch 88/100\n",
            "625/625 [==============================] - 5s 9ms/step - loss: 0.6652 - accuracy: 0.7616 - val_loss: 2.1218 - val_accuracy: 0.4739\n",
            "Epoch 89/100\n",
            "625/625 [==============================] - 6s 9ms/step - loss: 0.6486 - accuracy: 0.7663 - val_loss: 2.1179 - val_accuracy: 0.4775\n",
            "Epoch 90/100\n",
            "625/625 [==============================] - 5s 9ms/step - loss: 0.6555 - accuracy: 0.7667 - val_loss: 2.1176 - val_accuracy: 0.4847\n",
            "Epoch 91/100\n",
            "625/625 [==============================] - 6s 9ms/step - loss: 0.6512 - accuracy: 0.7661 - val_loss: 2.1641 - val_accuracy: 0.4747\n",
            "Epoch 92/100\n",
            "625/625 [==============================] - 6s 9ms/step - loss: 0.6438 - accuracy: 0.7712 - val_loss: 2.1508 - val_accuracy: 0.4841\n",
            "Epoch 93/100\n",
            "625/625 [==============================] - 6s 9ms/step - loss: 0.6398 - accuracy: 0.7685 - val_loss: 2.1953 - val_accuracy: 0.4702\n",
            "Epoch 94/100\n",
            "625/625 [==============================] - 6s 9ms/step - loss: 0.6263 - accuracy: 0.7726 - val_loss: 2.1546 - val_accuracy: 0.4805\n",
            "Epoch 95/100\n",
            "625/625 [==============================] - 5s 9ms/step - loss: 0.6364 - accuracy: 0.7712 - val_loss: 2.2502 - val_accuracy: 0.4741\n",
            "Epoch 96/100\n",
            "625/625 [==============================] - 5s 9ms/step - loss: 0.6303 - accuracy: 0.7747 - val_loss: 2.1744 - val_accuracy: 0.4724\n",
            "Epoch 97/100\n",
            "625/625 [==============================] - 5s 9ms/step - loss: 0.6247 - accuracy: 0.7788 - val_loss: 2.1996 - val_accuracy: 0.4730\n",
            "Epoch 98/100\n",
            "625/625 [==============================] - 5s 9ms/step - loss: 0.6183 - accuracy: 0.7784 - val_loss: 2.2433 - val_accuracy: 0.4766\n",
            "Epoch 99/100\n",
            "625/625 [==============================] - 5s 9ms/step - loss: 0.6249 - accuracy: 0.7782 - val_loss: 2.2324 - val_accuracy: 0.4813\n",
            "Epoch 100/100\n",
            "625/625 [==============================] - 6s 9ms/step - loss: 0.6083 - accuracy: 0.7826 - val_loss: 2.2386 - val_accuracy: 0.4815\n"
          ]
        }
      ]
    },
    {
      "cell_type": "code",
      "metadata": {
        "colab": {
          "base_uri": "https://localhost:8080/",
          "height": 573
        },
        "id": "FPouzgUlxAlJ",
        "outputId": "df5b796b-a471-4598-9727-f55ef91aa7c0"
      },
      "source": [
        "import matplotlib.pyplot as plt\n",
        "plt.plot(history.history['accuracy'])\n",
        "plt.plot(history.history['val_accuracy'])\n",
        "plt.title('accuray')\n",
        "plt.ylabel('accuray')\n",
        "plt.xlabel('epoch')\n",
        "plt.legend(['train', 'val'])\n",
        "plt.show()\n",
        "plt.plot(history.history['loss'])\n",
        "plt.plot(history.history['val_loss'])\n",
        "plt.title('loss')\n",
        "plt.ylabel('loss')\n",
        "plt.xlabel('epoch')\n",
        "plt.legend(['train', 'val'])\n",
        "plt.show()"
      ],
      "execution_count": 9,
      "outputs": [
        {
          "output_type": "display_data",
          "data": {
            "image/png": "[encoded data removed]",
            "text/plain": [
              "<Figure size 432x288 with 1 Axes>"
            ]
          },
          "metadata": {
            "needs_background": "light"
          }
        },
        {
          "output_type": "display_data",
          "data": {
            "image/png": "[encoded data removed]",
            "text/plain": [
              "<Figure size 432x288 with 1 Axes>"
            ]
          },
          "metadata": {
            "needs_background": "light"
          }
        }
      ]
    },
    {
      "cell_type": "code",
      "metadata": {
        "colab": {
          "base_uri": "https://localhost:8080/"
        },
        "id": "PCECqvMM6XDu",
        "outputId": "0f706b81-ef35-444a-b79c-b1c3f7a7a46b"
      },
      "source": [
        "score = model.evaluate(x_test, y_test, batch_size=64)\n",
        "print(\"score:\", score)"
      ],
      "execution_count": 10,
      "outputs": [
        {
          "output_type": "stream",
          "name": "stdout",
          "text": [
            "157/157 [==============================] - 1s 5ms/step - loss: 2.1871 - accuracy: 0.4845\n",
            "score: [2.187056541442871, 0.484499990940094]\n"
          ]
        }
      ]
    }
  ]
}