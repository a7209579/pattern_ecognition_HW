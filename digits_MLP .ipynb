{
  "nbformat": 4,
  "nbformat_minor": 0,
  "metadata": {
    "colab": {
      "name": "digits_MLP.ipynb",
      "provenance": [],
      "collapsed_sections": []
    },
    "kernelspec": {
      "name": "python3",
      "display_name": "Python 3"
    },
    "language_info": {
      "name": "python"
    }
  },
  "cells": [
    {
      "cell_type": "code",
      "metadata": {
        "id": "DVRfqA4pIVi5"
      },
      "source": [
        "from sklearn import datasets\n",
        "import keras\n",
        "from keras.models import Sequential\n",
        "from keras.layers import Dense\n",
        "from tensorflow.keras.utils import to_categorical"
      ],
      "execution_count": 1,
      "outputs": []
    },
    {
      "cell_type": "code",
      "metadata": {
        "id": "j6GmkmvCOCso"
      },
      "source": [
        "digits = datasets.load_digits()"
      ],
      "execution_count": 2,
      "outputs": []
    },
    {
      "cell_type": "code",
      "metadata": {
        "id": "OSHjvSBgPffy",
        "colab": {
          "base_uri": "https://localhost:8080/"
        },
        "outputId": "91adc163-b068-4c67-c0f4-cf8e3a332508"
      },
      "source": [
        "for key, value in digits.items():\n",
        "  try:\n",
        "    print(key,value.shape)\n",
        "  except:\n",
        "    print(key)"
      ],
      "execution_count": 3,
      "outputs": [
        {
          "output_type": "stream",
          "name": "stdout",
          "text": [
            "data (1797, 64)\n",
            "target (1797,)\n",
            "frame\n",
            "feature_names\n",
            "target_names (10,)\n",
            "images (1797, 8, 8)\n",
            "DESCR\n"
          ]
        }
      ]
    },
    {
      "cell_type": "code",
      "metadata": {
        "id": "5Z50tryPRaqt",
        "colab": {
          "base_uri": "https://localhost:8080/"
        },
        "outputId": "f987753d-7310-4b81-d54a-dbae7014c9e7"
      },
      "source": [
        "type(digits.data)"
      ],
      "execution_count": 4,
      "outputs": [
        {
          "output_type": "execute_result",
          "data": {
            "text/plain": [
              "numpy.ndarray"
            ]
          },
          "metadata": {},
          "execution_count": 4
        }
      ]
    },
    {
      "cell_type": "code",
      "metadata": {
        "id": "4GmSlROSQSpB"
      },
      "source": [
        "from sklearn.model_selection import train_test_split\n",
        "x_train, x_test, y_train, y_test = train_test_split(digits.data, digits.target, test_size=0.2)"
      ],
      "execution_count": 5,
      "outputs": []
    },
    {
      "cell_type": "code",
      "metadata": {
        "id": "HQ5t5BtfWJ4F"
      },
      "source": [
        "y_train = to_categorical(y_train, 10)\n",
        "y_test = to_categorical(y_test, 10)"
      ],
      "execution_count": 6,
      "outputs": []
    },
    {
      "cell_type": "code",
      "metadata": {
        "id": "PSTPt9ifYYRH",
        "colab": {
          "base_uri": "https://localhost:8080/"
        },
        "outputId": "f3cfab2a-acb3-4ed2-cc31-079f5c818330"
      },
      "source": [
        "model = Sequential()\n",
        "model.add(Dense(1024, activation='relu', input_dim = 64))\n",
        "model.add(Dense(10, activation='softmax'))\n",
        "model.compile(optimizer='adam', loss='categorical_crossentropy', metrics=['accuracy'])\n",
        "model.summary()"
      ],
      "execution_count": 7,
      "outputs": [
        {
          "output_type": "stream",
          "name": "stdout",
          "text": [
            "Model: \"sequential\"\n",
            "_________________________________________________________________\n",
            " Layer (type)                Output Shape              Param #   \n",
            "=================================================================\n",
            " dense (Dense)               (None, 1024)              66560     \n",
            "                                                                 \n",
            " dense_1 (Dense)             (None, 10)                10250     \n",
            "                                                                 \n",
            "=================================================================\n",
            "Total params: 76,810\n",
            "Trainable params: 76,810\n",
            "Non-trainable params: 0\n",
            "_________________________________________________________________\n"
          ]
        }
      ]
    },
    {
      "cell_type": "code",
      "metadata": {
        "id": "-kVh0qAVbz8e",
        "colab": {
          "base_uri": "https://localhost:8080/"
        },
        "outputId": "a1c77d34-b0d9-47bc-9d68-ea8a2169e54e"
      },
      "source": [
        "history=model.fit(x_train, y_train, batch_size=16, epochs=50, validation_split=0.2)"
      ],
      "execution_count": 8,
      "outputs": [
        {
          "output_type": "stream",
          "name": "stdout",
          "text": [
            "Epoch 1/50\n",
            "72/72 [==============================] - 1s 5ms/step - loss: 0.5542 - accuracy: 0.8460 - val_loss: 0.1519 - val_accuracy: 0.9618\n",
            "Epoch 2/50\n",
            "72/72 [==============================] - 0s 3ms/step - loss: 0.1201 - accuracy: 0.9661 - val_loss: 0.1288 - val_accuracy: 0.9688\n",
            "Epoch 3/50\n",
            "72/72 [==============================] - 0s 3ms/step - loss: 0.0725 - accuracy: 0.9774 - val_loss: 0.1666 - val_accuracy: 0.9375\n",
            "Epoch 4/50\n",
            "72/72 [==============================] - 0s 3ms/step - loss: 0.0764 - accuracy: 0.9748 - val_loss: 0.0829 - val_accuracy: 0.9722\n",
            "Epoch 5/50\n",
            "72/72 [==============================] - 0s 3ms/step - loss: 0.0608 - accuracy: 0.9782 - val_loss: 0.1265 - val_accuracy: 0.9688\n",
            "Epoch 6/50\n",
            "72/72 [==============================] - 0s 3ms/step - loss: 0.0822 - accuracy: 0.9748 - val_loss: 0.1044 - val_accuracy: 0.9792\n",
            "Epoch 7/50\n",
            "72/72 [==============================] - 0s 3ms/step - loss: 0.0309 - accuracy: 0.9887 - val_loss: 0.0892 - val_accuracy: 0.9757\n",
            "Epoch 8/50\n",
            "72/72 [==============================] - 0s 3ms/step - loss: 0.0127 - accuracy: 0.9974 - val_loss: 0.0896 - val_accuracy: 0.9826\n",
            "Epoch 9/50\n",
            "72/72 [==============================] - 0s 3ms/step - loss: 0.0035 - accuracy: 0.9991 - val_loss: 0.0775 - val_accuracy: 0.9826\n",
            "Epoch 10/50\n",
            "72/72 [==============================] - 0s 3ms/step - loss: 0.0021 - accuracy: 1.0000 - val_loss: 0.0759 - val_accuracy: 0.9826\n",
            "Epoch 11/50\n",
            "72/72 [==============================] - 0s 3ms/step - loss: 0.0012 - accuracy: 1.0000 - val_loss: 0.0666 - val_accuracy: 0.9826\n",
            "Epoch 12/50\n",
            "72/72 [==============================] - 0s 3ms/step - loss: 0.0010 - accuracy: 1.0000 - val_loss: 0.0675 - val_accuracy: 0.9826\n",
            "Epoch 13/50\n",
            "72/72 [==============================] - 0s 3ms/step - loss: 9.5422e-04 - accuracy: 1.0000 - val_loss: 0.0658 - val_accuracy: 0.9861\n",
            "Epoch 14/50\n",
            "72/72 [==============================] - 0s 3ms/step - loss: 7.9489e-04 - accuracy: 1.0000 - val_loss: 0.0638 - val_accuracy: 0.9861\n",
            "Epoch 15/50\n",
            "72/72 [==============================] - 0s 3ms/step - loss: 7.4847e-04 - accuracy: 1.0000 - val_loss: 0.0634 - val_accuracy: 0.9861\n",
            "Epoch 16/50\n",
            "72/72 [==============================] - 0s 3ms/step - loss: 6.9181e-04 - accuracy: 1.0000 - val_loss: 0.0638 - val_accuracy: 0.9861\n",
            "Epoch 17/50\n",
            "72/72 [==============================] - 0s 3ms/step - loss: 6.3744e-04 - accuracy: 1.0000 - val_loss: 0.0649 - val_accuracy: 0.9861\n",
            "Epoch 18/50\n",
            "72/72 [==============================] - 0s 3ms/step - loss: 5.9681e-04 - accuracy: 1.0000 - val_loss: 0.0647 - val_accuracy: 0.9861\n",
            "Epoch 19/50\n",
            "72/72 [==============================] - 0s 3ms/step - loss: 5.5630e-04 - accuracy: 1.0000 - val_loss: 0.0668 - val_accuracy: 0.9826\n",
            "Epoch 20/50\n",
            "72/72 [==============================] - 0s 3ms/step - loss: 5.1983e-04 - accuracy: 1.0000 - val_loss: 0.0648 - val_accuracy: 0.9861\n",
            "Epoch 21/50\n",
            "72/72 [==============================] - 0s 4ms/step - loss: 4.8348e-04 - accuracy: 1.0000 - val_loss: 0.0651 - val_accuracy: 0.9861\n",
            "Epoch 22/50\n",
            "72/72 [==============================] - 0s 4ms/step - loss: 4.5367e-04 - accuracy: 1.0000 - val_loss: 0.0660 - val_accuracy: 0.9861\n",
            "Epoch 23/50\n",
            "72/72 [==============================] - 0s 3ms/step - loss: 4.3803e-04 - accuracy: 1.0000 - val_loss: 0.0653 - val_accuracy: 0.9826\n",
            "Epoch 24/50\n",
            "72/72 [==============================] - 0s 3ms/step - loss: 4.1728e-04 - accuracy: 1.0000 - val_loss: 0.0649 - val_accuracy: 0.9826\n",
            "Epoch 25/50\n",
            "72/72 [==============================] - 0s 3ms/step - loss: 3.9648e-04 - accuracy: 1.0000 - val_loss: 0.0638 - val_accuracy: 0.9861\n",
            "Epoch 26/50\n",
            "72/72 [==============================] - 0s 3ms/step - loss: 3.7298e-04 - accuracy: 1.0000 - val_loss: 0.0667 - val_accuracy: 0.9792\n",
            "Epoch 27/50\n",
            "72/72 [==============================] - 0s 3ms/step - loss: 3.4842e-04 - accuracy: 1.0000 - val_loss: 0.0687 - val_accuracy: 0.9792\n",
            "Epoch 28/50\n",
            "72/72 [==============================] - 0s 3ms/step - loss: 3.2857e-04 - accuracy: 1.0000 - val_loss: 0.0661 - val_accuracy: 0.9826\n",
            "Epoch 29/50\n",
            "72/72 [==============================] - 0s 4ms/step - loss: 3.2943e-04 - accuracy: 1.0000 - val_loss: 0.0676 - val_accuracy: 0.9792\n",
            "Epoch 30/50\n",
            "72/72 [==============================] - 0s 3ms/step - loss: 2.9635e-04 - accuracy: 1.0000 - val_loss: 0.0670 - val_accuracy: 0.9792\n",
            "Epoch 31/50\n",
            "72/72 [==============================] - 0s 3ms/step - loss: 2.9457e-04 - accuracy: 1.0000 - val_loss: 0.0697 - val_accuracy: 0.9792\n",
            "Epoch 32/50\n",
            "72/72 [==============================] - 0s 3ms/step - loss: 2.7856e-04 - accuracy: 1.0000 - val_loss: 0.0669 - val_accuracy: 0.9792\n",
            "Epoch 33/50\n",
            "72/72 [==============================] - 0s 3ms/step - loss: 2.5764e-04 - accuracy: 1.0000 - val_loss: 0.0692 - val_accuracy: 0.9792\n",
            "Epoch 34/50\n",
            "72/72 [==============================] - 0s 3ms/step - loss: 2.4657e-04 - accuracy: 1.0000 - val_loss: 0.0686 - val_accuracy: 0.9792\n",
            "Epoch 35/50\n",
            "72/72 [==============================] - 0s 3ms/step - loss: 2.3578e-04 - accuracy: 1.0000 - val_loss: 0.0702 - val_accuracy: 0.9792\n",
            "Epoch 36/50\n",
            "72/72 [==============================] - 0s 3ms/step - loss: 2.3522e-04 - accuracy: 1.0000 - val_loss: 0.0682 - val_accuracy: 0.9792\n",
            "Epoch 37/50\n",
            "72/72 [==============================] - 0s 4ms/step - loss: 2.1577e-04 - accuracy: 1.0000 - val_loss: 0.0683 - val_accuracy: 0.9792\n",
            "Epoch 38/50\n",
            "72/72 [==============================] - 0s 3ms/step - loss: 2.0338e-04 - accuracy: 1.0000 - val_loss: 0.0694 - val_accuracy: 0.9792\n",
            "Epoch 39/50\n",
            "72/72 [==============================] - 0s 3ms/step - loss: 1.9290e-04 - accuracy: 1.0000 - val_loss: 0.0698 - val_accuracy: 0.9792\n",
            "Epoch 40/50\n",
            "72/72 [==============================] - 0s 3ms/step - loss: 1.8556e-04 - accuracy: 1.0000 - val_loss: 0.0677 - val_accuracy: 0.9792\n",
            "Epoch 41/50\n",
            "72/72 [==============================] - 0s 3ms/step - loss: 1.7590e-04 - accuracy: 1.0000 - val_loss: 0.0713 - val_accuracy: 0.9792\n",
            "Epoch 42/50\n",
            "72/72 [==============================] - 0s 3ms/step - loss: 1.6932e-04 - accuracy: 1.0000 - val_loss: 0.0698 - val_accuracy: 0.9792\n",
            "Epoch 43/50\n",
            "72/72 [==============================] - 0s 3ms/step - loss: 1.6353e-04 - accuracy: 1.0000 - val_loss: 0.0718 - val_accuracy: 0.9792\n",
            "Epoch 44/50\n",
            "72/72 [==============================] - 0s 3ms/step - loss: 1.5467e-04 - accuracy: 1.0000 - val_loss: 0.0696 - val_accuracy: 0.9792\n",
            "Epoch 45/50\n",
            "72/72 [==============================] - 0s 3ms/step - loss: 1.5013e-04 - accuracy: 1.0000 - val_loss: 0.0710 - val_accuracy: 0.9792\n",
            "Epoch 46/50\n",
            "72/72 [==============================] - 0s 3ms/step - loss: 1.4218e-04 - accuracy: 1.0000 - val_loss: 0.0706 - val_accuracy: 0.9792\n",
            "Epoch 47/50\n",
            "72/72 [==============================] - 0s 3ms/step - loss: 1.3736e-04 - accuracy: 1.0000 - val_loss: 0.0712 - val_accuracy: 0.9792\n",
            "Epoch 48/50\n",
            "72/72 [==============================] - 0s 3ms/step - loss: 1.3051e-04 - accuracy: 1.0000 - val_loss: 0.0698 - val_accuracy: 0.9792\n",
            "Epoch 49/50\n",
            "72/72 [==============================] - 0s 3ms/step - loss: 1.2689e-04 - accuracy: 1.0000 - val_loss: 0.0709 - val_accuracy: 0.9792\n",
            "Epoch 50/50\n",
            "72/72 [==============================] - 0s 3ms/step - loss: 1.2083e-04 - accuracy: 1.0000 - val_loss: 0.0720 - val_accuracy: 0.9792\n"
          ]
        }
      ]
    },
    {
      "cell_type": "code",
      "metadata": {
        "id": "0U5dpaSddCgY",
        "colab": {
          "base_uri": "https://localhost:8080/",
          "height": 573
        },
        "outputId": "1eb28836-a180-46f7-b854-0a2cbac2d8fb"
      },
      "source": [
        "import matplotlib.pyplot as plt\n",
        "plt.plot(history.history['accuracy'])\n",
        "plt.plot(history.history['val_accuracy'])\n",
        "plt.title('accuray')\n",
        "plt.ylabel('accuray')\n",
        "plt.xlabel('epoch')\n",
        "plt.legend(['train', 'val'])\n",
        "plt.show()\n",
        "plt.plot(history.history['loss'])\n",
        "plt.plot(history.history['val_loss'])\n",
        "plt.title('loss')\n",
        "plt.ylabel('loss')\n",
        "plt.xlabel('epoch')\n",
        "plt.legend(['train', 'val'])\n",
        "plt.show()"
      ],
      "execution_count": 12,
      "outputs": [
        {
          "output_type": "display_data",
          "data": {
            "image/png": "[encoded data removed]",
            "text/plain": [
              "<Figure size 432x288 with 1 Axes>"
            ]
          },
          "metadata": {
            "needs_background": "light"
          }
        },
        {
          "output_type": "display_data",
          "data": {
            "image/png": "[encoded data removed]",
            "text/plain": [
              "<Figure size 432x288 with 1 Axes>"
            ]
          },
          "metadata": {
            "needs_background": "light"
          }
        }
      ]
    },
    {
      "cell_type": "code",
      "metadata": {
        "id": "WnIv5B9E7KE7",
        "colab": {
          "base_uri": "https://localhost:8080/"
        },
        "outputId": "6f40ff0a-848b-41df-9e8c-2b922673fd0d"
      },
      "source": [
        "score = model.evaluate(x_test, y_test, batch_size=16)\n",
        "print(\"score:\", score)"
      ],
      "execution_count": 11,
      "outputs": [
        {
          "output_type": "stream",
          "name": "stdout",
          "text": [
            "23/23 [==============================] - 0s 2ms/step - loss: 0.0420 - accuracy: 0.9917\n",
            "score: [0.041955605149269104, 0.9916666746139526]\n"
          ]
        }
      ]
    }
  ]
}