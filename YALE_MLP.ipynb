{
  "cells": [
    {
      "cell_type": "code",
      "execution_count": 2,
      "metadata": {
        "id": "DVRfqA4pIVi5"
      },
      "outputs": [],
      "source": [
        "import os\n",
        "import cv2\n",
        "import numpy as np\n",
        "from glob import glob\n",
        "from os.path import splitext\n",
        "from sklearn.model_selection import train_test_split\n",
        "from PIL import Image\n",
        "from keras.models import Sequential\n",
        "from keras.layers import Dense, Flatten\n",
        "from tensorflow.keras.utils import to_categorical\n",
        "from glob import glob"
      ]
    },
    {
      "cell_type": "code",
      "execution_count": 2,
      "metadata": {},
      "outputs": [],
      "source": [
        "\"\"\"\n",
        "根據YALE資料集網址http://vision.ucsd.edu/content/yale-face-database 顯示，總共有165張GIF灰階圖片，\n",
        "\n",
        "yalefaces檔案夾裡有些問題：\n",
        "(1)多一張subject01.glasses.gif，先手動移除\n",
        "(2)subject01.gif其實是subject01.centerlight，先手動重新命名\n",
        "(3)所有檔案缺少gif副檔名，所以添加檔案gif副檔名，\n",
        "\"\"\"\n",
        "\n",
        "#添加副檔名\n",
        "path = 'yalefaces'\n",
        "files = os.listdir(path)\n",
        "for index, file in enumerate(files):\n",
        "    os.rename(os.path.join(path, file), os.path.join(path, file+\".gif\"))"
      ]
    },
    {
      "cell_type": "code",
      "execution_count": 3,
      "metadata": {},
      "outputs": [
        {
          "name": "stdout",
          "output_type": "stream",
          "text": [
            "yalefaces\\subject01.centerlight.jpg\n",
            "yalefaces\\subject01.glasses.jpg\n",
            "yalefaces\\subject01.happy.jpg\n",
            "yalefaces\\subject01.leftlight.jpg\n",
            "yalefaces\\subject01.noglasses.jpg\n",
            "yalefaces\\subject01.normal.jpg\n",
            "yalefaces\\subject01.rightlight.jpg\n",
            "yalefaces\\subject01.sad.jpg\n",
            "yalefaces\\subject01.sleepy.jpg\n",
            "yalefaces\\subject01.surprised.jpg\n",
            "yalefaces\\subject01.wink.jpg\n",
            "yalefaces\\subject02.centerlight.jpg\n",
            "yalefaces\\subject02.glasses.jpg\n",
            "yalefaces\\subject02.happy.jpg\n",
            "yalefaces\\subject02.leftlight.jpg\n",
            "yalefaces\\subject02.noglasses.jpg\n",
            "yalefaces\\subject02.normal.jpg\n",
            "yalefaces\\subject02.rightlight.jpg\n",
            "yalefaces\\subject02.sad.jpg\n",
            "yalefaces\\subject02.sleepy.jpg\n",
            "yalefaces\\subject02.surprised.jpg\n",
            "yalefaces\\subject02.wink.jpg\n",
            "yalefaces\\subject03.centerlight.jpg\n",
            "yalefaces\\subject03.glasses.jpg\n",
            "yalefaces\\subject03.happy.jpg\n",
            "yalefaces\\subject03.leftlight.jpg\n",
            "yalefaces\\subject03.noglasses.jpg\n",
            "yalefaces\\subject03.normal.jpg\n",
            "yalefaces\\subject03.rightlight.jpg\n",
            "yalefaces\\subject03.sad.jpg\n",
            "yalefaces\\subject03.sleepy.jpg\n",
            "yalefaces\\subject03.surprised.jpg\n",
            "yalefaces\\subject03.wink.jpg\n",
            "yalefaces\\subject04.centerlight.jpg\n",
            "yalefaces\\subject04.glasses.jpg\n",
            "yalefaces\\subject04.happy.jpg\n",
            "yalefaces\\subject04.leftlight.jpg\n",
            "yalefaces\\subject04.noglasses.jpg\n",
            "yalefaces\\subject04.normal.jpg\n",
            "yalefaces\\subject04.rightlight.jpg\n",
            "yalefaces\\subject04.sad.jpg\n",
            "yalefaces\\subject04.sleepy.jpg\n",
            "yalefaces\\subject04.surprised.jpg\n",
            "yalefaces\\subject04.wink.jpg\n",
            "yalefaces\\subject05.centerlight.jpg\n",
            "yalefaces\\subject05.glasses.jpg\n",
            "yalefaces\\subject05.happy.jpg\n",
            "yalefaces\\subject05.leftlight.jpg\n",
            "yalefaces\\subject05.noglasses.jpg\n",
            "yalefaces\\subject05.normal.jpg\n",
            "yalefaces\\subject05.rightlight.jpg\n",
            "yalefaces\\subject05.sad.jpg\n",
            "yalefaces\\subject05.sleepy.jpg\n",
            "yalefaces\\subject05.surprised.jpg\n",
            "yalefaces\\subject05.wink.jpg\n",
            "yalefaces\\subject06.centerlight.jpg\n",
            "yalefaces\\subject06.glasses.jpg\n",
            "yalefaces\\subject06.happy.jpg\n",
            "yalefaces\\subject06.leftlight.jpg\n",
            "yalefaces\\subject06.noglasses.jpg\n",
            "yalefaces\\subject06.normal.jpg\n",
            "yalefaces\\subject06.rightlight.jpg\n",
            "yalefaces\\subject06.sad.jpg\n",
            "yalefaces\\subject06.sleepy.jpg\n",
            "yalefaces\\subject06.surprised.jpg\n",
            "yalefaces\\subject06.wink.jpg\n",
            "yalefaces\\subject07.centerlight.jpg\n",
            "yalefaces\\subject07.glasses.jpg\n",
            "yalefaces\\subject07.happy.jpg\n",
            "yalefaces\\subject07.leftlight.jpg\n",
            "yalefaces\\subject07.noglasses.jpg\n",
            "yalefaces\\subject07.normal.jpg\n",
            "yalefaces\\subject07.rightlight.jpg\n",
            "yalefaces\\subject07.sad.jpg\n",
            "yalefaces\\subject07.sleepy.jpg\n",
            "yalefaces\\subject07.surprised.jpg\n",
            "yalefaces\\subject07.wink.jpg\n",
            "yalefaces\\subject08.centerlight.jpg\n",
            "yalefaces\\subject08.glasses.jpg\n",
            "yalefaces\\subject08.happy.jpg\n",
            "yalefaces\\subject08.leftlight.jpg\n",
            "yalefaces\\subject08.noglasses.jpg\n",
            "yalefaces\\subject08.normal.jpg\n",
            "yalefaces\\subject08.rightlight.jpg\n",
            "yalefaces\\subject08.sad.jpg\n",
            "yalefaces\\subject08.sleepy.jpg\n",
            "yalefaces\\subject08.surprised.jpg\n",
            "yalefaces\\subject08.wink.jpg\n",
            "yalefaces\\subject09.centerlight.jpg\n",
            "yalefaces\\subject09.glasses.jpg\n",
            "yalefaces\\subject09.happy.jpg\n",
            "yalefaces\\subject09.leftlight.jpg\n",
            "yalefaces\\subject09.noglasses.jpg\n",
            "yalefaces\\subject09.normal.jpg\n",
            "yalefaces\\subject09.rightlight.jpg\n",
            "yalefaces\\subject09.sad.jpg\n",
            "yalefaces\\subject09.sleepy.jpg\n",
            "yalefaces\\subject09.surprised.jpg\n",
            "yalefaces\\subject09.wink.jpg\n",
            "yalefaces\\subject10.centerlight.jpg\n",
            "yalefaces\\subject10.glasses.jpg\n",
            "yalefaces\\subject10.happy.jpg\n",
            "yalefaces\\subject10.leftlight.jpg\n",
            "yalefaces\\subject10.noglasses.jpg\n",
            "yalefaces\\subject10.normal.jpg\n",
            "yalefaces\\subject10.rightlight.jpg\n",
            "yalefaces\\subject10.sad.jpg\n",
            "yalefaces\\subject10.sleepy.jpg\n",
            "yalefaces\\subject10.surprised.jpg\n",
            "yalefaces\\subject10.wink.jpg\n",
            "yalefaces\\subject11.centerlight.jpg\n",
            "yalefaces\\subject11.glasses.jpg\n",
            "yalefaces\\subject11.happy.jpg\n",
            "yalefaces\\subject11.leftlight.jpg\n",
            "yalefaces\\subject11.noglasses.jpg\n",
            "yalefaces\\subject11.normal.jpg\n",
            "yalefaces\\subject11.rightlight.jpg\n",
            "yalefaces\\subject11.sad.jpg\n",
            "yalefaces\\subject11.sleepy.jpg\n",
            "yalefaces\\subject11.surprised.jpg\n",
            "yalefaces\\subject11.wink.jpg\n",
            "yalefaces\\subject12.centerlight.jpg\n",
            "yalefaces\\subject12.glasses.jpg\n",
            "yalefaces\\subject12.happy.jpg\n",
            "yalefaces\\subject12.leftlight.jpg\n",
            "yalefaces\\subject12.noglasses.jpg\n",
            "yalefaces\\subject12.normal.jpg\n",
            "yalefaces\\subject12.rightlight.jpg\n",
            "yalefaces\\subject12.sad.jpg\n",
            "yalefaces\\subject12.sleepy.jpg\n",
            "yalefaces\\subject12.surprised.jpg\n",
            "yalefaces\\subject12.wink.jpg\n",
            "yalefaces\\subject13.centerlight.jpg\n",
            "yalefaces\\subject13.glasses.jpg\n",
            "yalefaces\\subject13.happy.jpg\n",
            "yalefaces\\subject13.leftlight.jpg\n",
            "yalefaces\\subject13.noglasses.jpg\n",
            "yalefaces\\subject13.normal.jpg\n",
            "yalefaces\\subject13.rightlight.jpg\n",
            "yalefaces\\subject13.sad.jpg\n",
            "yalefaces\\subject13.sleepy.jpg\n",
            "yalefaces\\subject13.surprised.jpg\n",
            "yalefaces\\subject13.wink.jpg\n",
            "yalefaces\\subject14.centerlight.jpg\n",
            "yalefaces\\subject14.glasses.jpg\n",
            "yalefaces\\subject14.happy.jpg\n",
            "yalefaces\\subject14.leftlight.jpg\n",
            "yalefaces\\subject14.noglasses.jpg\n",
            "yalefaces\\subject14.normal.jpg\n",
            "yalefaces\\subject14.rightlight.jpg\n",
            "yalefaces\\subject14.sad.jpg\n",
            "yalefaces\\subject14.sleepy.jpg\n",
            "yalefaces\\subject14.surprised.jpg\n",
            "yalefaces\\subject14.wink.jpg\n",
            "yalefaces\\subject15.centerlight.jpg\n",
            "yalefaces\\subject15.glasses.jpg\n",
            "yalefaces\\subject15.happy.jpg\n",
            "yalefaces\\subject15.leftlight.jpg\n",
            "yalefaces\\subject15.noglasses.jpg\n",
            "yalefaces\\subject15.normal.jpg\n",
            "yalefaces\\subject15.rightlight.jpg\n",
            "yalefaces\\subject15.sad.jpg\n",
            "yalefaces\\subject15.sleepy.jpg\n",
            "yalefaces\\subject15.surprised.jpg\n",
            "yalefaces\\subject15.wink.jpg\n"
          ]
        }
      ],
      "source": [
        "\"\"\"\n",
        "轉成gif檔的問題：\n",
        "(1)OpenCV無法讀取gif檔，\n",
        "(2)使用PIL可以成功讀取但在轉成numpy也會有問題，都無法成功轉成tensor去訓練。\n",
        "\n",
        "解決方法：\n",
        "所以把gif檔轉成jpg,再把轉完jpg放到新的資料夾裡\n",
        "\"\"\"\n",
        "\n",
        "#gif檔轉成jpg\n",
        "giflist = glob( \"yalefaces/*.[gG][iI][fF]\" )\n",
        "\n",
        "for gif in giflist:\n",
        "    im = Image.open(gif)\n",
        "    jpg = splitext(gif)[0]+\".jpg\"\n",
        "    im.save(jpg)\n",
        "    print(jpg)\n"
      ]
    },
    {
      "cell_type": "code",
      "execution_count": 4,
      "metadata": {},
      "outputs": [],
      "source": [
        "x = []\n",
        "y = []\n",
        "\n",
        "image_size = 100\n",
        "dataset_files = glob( \"yalefaces2/*.jpg\")\n",
        "for file in dataset_files:\n",
        "    if \"subject01\" in file:\n",
        "        y.append(0)\n",
        "    elif \"subject02\" in file:\n",
        "        y.append(1)\n",
        "    elif \"subject03\" in file:\n",
        "        y.append(2)\n",
        "    elif \"subject04\" in file:\n",
        "        y.append(3)\n",
        "    elif \"subject05\" in file:\n",
        "        y.append(4)\n",
        "    elif \"subject06\" in file:\n",
        "        y.append(5)\n",
        "    elif \"subject07\" in file:\n",
        "        y.append(6)\n",
        "    elif \"subject08\" in file:\n",
        "        y.append(7)\n",
        "    elif \"subject09\" in file:\n",
        "        y.append(8)\n",
        "    elif \"subject10\" in file:\n",
        "        y.append(9)\n",
        "    elif \"subject11\" in file:\n",
        "        y.append(10)\n",
        "    elif \"subject12\" in file:\n",
        "        y.append(11)\n",
        "    elif \"subject13\" in file:\n",
        "        y.append(12)\n",
        "    elif \"subject14\" in file:\n",
        "        y.append(13)\n",
        "    elif \"subject15\" in file:\n",
        "        y.append(14)\n",
        "    \n",
        "    img = cv2.imread(file)\n",
        "    img = cv2.resize(img,(100,100))\n",
        "    x.append(img)\n",
        "    \n"
      ]
    },
    {
      "cell_type": "code",
      "execution_count": 5,
      "metadata": {
        "id": "4GmSlROSQSpB"
      },
      "outputs": [],
      "source": [
        "x_train, x_test, y_train, y_test = train_test_split(x, y, test_size=0.1)"
      ]
    },
    {
      "cell_type": "code",
      "execution_count": 6,
      "metadata": {},
      "outputs": [
        {
          "name": "stdout",
          "output_type": "stream",
          "text": [
            "x_train: 148 , y_train: 148\n",
            "x_test: 17 , y_test: 17\n"
          ]
        }
      ],
      "source": [
        "print(f\"x_train: {len(x_train)} , y_train: {len(y_train)}\")\n",
        "print(f\"x_test: {len(x_test)} , y_test: {len(y_test)}\")"
      ]
    },
    {
      "cell_type": "code",
      "execution_count": 7,
      "metadata": {},
      "outputs": [],
      "source": [
        "x_train = np.array(x_train)\n",
        "y_train = np.array(y_train)\n",
        "x_test = np.array(x_test)\n",
        "y_test = np.array(y_test)"
      ]
    },
    {
      "cell_type": "code",
      "execution_count": 8,
      "metadata": {},
      "outputs": [
        {
          "name": "stdout",
          "output_type": "stream",
          "text": [
            "X_train shape  is (148, 100, 100, 3)\n",
            "y_train shape  is (148,) \n",
            "\n",
            "X_test  shape  is (17, 100, 100, 3)\n",
            "y_test  shape  is (17,) \n",
            "\n"
          ]
        }
      ],
      "source": [
        "print(f'X_train shape  is {x_train.shape}')\n",
        "print(f'y_train shape  is {y_train.shape} \\n')\n",
        "print(f'X_test  shape  is {x_test.shape}')\n",
        "print(f'y_test  shape  is {y_test.shape} \\n')"
      ]
    },
    {
      "cell_type": "code",
      "execution_count": 9,
      "metadata": {},
      "outputs": [],
      "source": [
        "x_train = x_train.astype('float32')\n",
        "x_test = x_test.astype('float32')"
      ]
    },
    {
      "cell_type": "code",
      "execution_count": 10,
      "metadata": {},
      "outputs": [],
      "source": [
        "x_train/=255\n",
        "x_test/=255"
      ]
    },
    {
      "cell_type": "code",
      "execution_count": 11,
      "metadata": {},
      "outputs": [
        {
          "name": "stdout",
          "output_type": "stream",
          "text": [
            "[ 5  9  9 10  1 13  6 12  7  3]\n"
          ]
        }
      ],
      "source": [
        "#before one-hot\n",
        "print(y_train[:10])"
      ]
    },
    {
      "cell_type": "code",
      "execution_count": 12,
      "metadata": {},
      "outputs": [
        {
          "name": "stdout",
          "output_type": "stream",
          "text": [
            "[[0. 0. 0. 0. 0. 1. 0. 0. 0. 0. 0. 0. 0. 0. 0.]\n",
            " [0. 0. 0. 0. 0. 0. 0. 0. 0. 1. 0. 0. 0. 0. 0.]\n",
            " [0. 0. 0. 0. 0. 0. 0. 0. 0. 1. 0. 0. 0. 0. 0.]\n",
            " [0. 0. 0. 0. 0. 0. 0. 0. 0. 0. 1. 0. 0. 0. 0.]\n",
            " [0. 1. 0. 0. 0. 0. 0. 0. 0. 0. 0. 0. 0. 0. 0.]\n",
            " [0. 0. 0. 0. 0. 0. 0. 0. 0. 0. 0. 0. 0. 1. 0.]\n",
            " [0. 0. 0. 0. 0. 0. 1. 0. 0. 0. 0. 0. 0. 0. 0.]\n",
            " [0. 0. 0. 0. 0. 0. 0. 0. 0. 0. 0. 0. 1. 0. 0.]\n",
            " [0. 0. 0. 0. 0. 0. 0. 1. 0. 0. 0. 0. 0. 0. 0.]\n",
            " [0. 0. 0. 1. 0. 0. 0. 0. 0. 0. 0. 0. 0. 0. 0.]]\n"
          ]
        }
      ],
      "source": [
        "#one_hot\n",
        "y_train=to_categorical(y_train, 15)\n",
        "y_test=to_categorical(y_test, 15)\n",
        "print(y_train[:10])"
      ]
    },
    {
      "cell_type": "code",
      "execution_count": 13,
      "metadata": {
        "colab": {
          "base_uri": "https://localhost:8080/"
        },
        "id": "PSTPt9ifYYRH",
        "outputId": "f3cfab2a-acb3-4ed2-cc31-079f5c818330"
      },
      "outputs": [
        {
          "name": "stdout",
          "output_type": "stream",
          "text": [
            "Model: \"sequential\"\n",
            "_________________________________________________________________\n",
            " Layer (type)                Output Shape              Param #   \n",
            "=================================================================\n",
            " flatten (Flatten)           (None, 30000)             0         \n",
            "                                                                 \n",
            " dense (Dense)               (None, 1024)              30721024  \n",
            "                                                                 \n",
            " dense_1 (Dense)             (None, 15)                15375     \n",
            "                                                                 \n",
            "=================================================================\n",
            "Total params: 30,736,399\n",
            "Trainable params: 30,736,399\n",
            "Non-trainable params: 0\n",
            "_________________________________________________________________\n"
          ]
        }
      ],
      "source": [
        "#MLP\n",
        "model = Sequential()\n",
        "model.add(Flatten(input_shape=(100, 100, 3)))\n",
        "model.add(Dense(1024, activation='relu'))\n",
        "model.add(Dense(15, activation='softmax'))\n",
        "model.compile(optimizer='adam', loss='categorical_crossentropy', metrics=['accuracy'])\n",
        "model.summary()"
      ]
    },
    {
      "cell_type": "code",
      "execution_count": 14,
      "metadata": {
        "colab": {
          "base_uri": "https://localhost:8080/"
        },
        "id": "-kVh0qAVbz8e",
        "outputId": "a1c77d34-b0d9-47bc-9d68-ea8a2169e54e"
      },
      "outputs": [
        {
          "name": "stdout",
          "output_type": "stream",
          "text": [
            "Epoch 1/100\n",
            "17/17 [==============================] - 1s 12ms/step - loss: 70.4614 - accuracy: 0.0602 - val_loss: 38.0315 - val_accuracy: 0.2667\n",
            "Epoch 2/100\n",
            "17/17 [==============================] - 0s 7ms/step - loss: 16.4067 - accuracy: 0.2632 - val_loss: 5.2442 - val_accuracy: 0.3333\n",
            "Epoch 3/100\n",
            "17/17 [==============================] - 0s 6ms/step - loss: 5.5444 - accuracy: 0.4586 - val_loss: 1.5484 - val_accuracy: 0.6667\n",
            "Epoch 4/100\n",
            "17/17 [==============================] - 0s 7ms/step - loss: 3.0583 - accuracy: 0.5489 - val_loss: 1.9138 - val_accuracy: 0.7333\n",
            "Epoch 5/100\n",
            "17/17 [==============================] - 0s 7ms/step - loss: 1.4852 - accuracy: 0.6842 - val_loss: 0.6583 - val_accuracy: 0.8667\n",
            "Epoch 6/100\n",
            "17/17 [==============================] - 0s 6ms/step - loss: 0.4763 - accuracy: 0.8722 - val_loss: 0.9082 - val_accuracy: 0.8000\n",
            "Epoch 7/100\n",
            "17/17 [==============================] - 0s 7ms/step - loss: 0.3572 - accuracy: 0.9248 - val_loss: 1.5918 - val_accuracy: 0.8000\n",
            "Epoch 8/100\n",
            "17/17 [==============================] - 0s 7ms/step - loss: 0.4253 - accuracy: 0.8947 - val_loss: 1.9965 - val_accuracy: 0.7333\n",
            "Epoch 9/100\n",
            "17/17 [==============================] - 0s 7ms/step - loss: 0.2551 - accuracy: 0.9398 - val_loss: 0.4436 - val_accuracy: 0.9333\n",
            "Epoch 10/100\n",
            "17/17 [==============================] - 0s 6ms/step - loss: 0.2957 - accuracy: 0.9248 - val_loss: 0.9726 - val_accuracy: 0.9333\n",
            "Epoch 11/100\n",
            "17/17 [==============================] - 0s 7ms/step - loss: 0.3809 - accuracy: 0.9474 - val_loss: 1.0429 - val_accuracy: 0.7333\n",
            "Epoch 12/100\n",
            "17/17 [==============================] - 0s 7ms/step - loss: 0.3297 - accuracy: 0.9173 - val_loss: 0.9123 - val_accuracy: 0.8000\n",
            "Epoch 13/100\n",
            "17/17 [==============================] - 0s 7ms/step - loss: 0.5107 - accuracy: 0.8797 - val_loss: 3.7221 - val_accuracy: 0.6000\n",
            "Epoch 14/100\n",
            "17/17 [==============================] - 0s 6ms/step - loss: 1.5777 - accuracy: 0.7594 - val_loss: 2.5019 - val_accuracy: 0.8000\n",
            "Epoch 15/100\n",
            "17/17 [==============================] - 0s 7ms/step - loss: 0.4705 - accuracy: 0.8722 - val_loss: 1.1461 - val_accuracy: 0.8000\n",
            "Epoch 16/100\n",
            "17/17 [==============================] - 0s 7ms/step - loss: 0.5738 - accuracy: 0.8421 - val_loss: 1.3581 - val_accuracy: 0.8000\n",
            "Epoch 17/100\n",
            "17/17 [==============================] - 0s 7ms/step - loss: 1.0968 - accuracy: 0.8647 - val_loss: 1.9468 - val_accuracy: 0.8000\n",
            "Epoch 18/100\n",
            "17/17 [==============================] - 0s 7ms/step - loss: 0.0781 - accuracy: 0.9699 - val_loss: 0.6012 - val_accuracy: 0.8667\n",
            "Epoch 19/100\n",
            "17/17 [==============================] - 0s 7ms/step - loss: 0.1548 - accuracy: 0.9549 - val_loss: 2.3320 - val_accuracy: 0.7333\n",
            "Epoch 20/100\n",
            "17/17 [==============================] - 0s 7ms/step - loss: 0.4108 - accuracy: 0.9398 - val_loss: 1.3828 - val_accuracy: 0.7333\n",
            "Epoch 21/100\n",
            "17/17 [==============================] - 0s 7ms/step - loss: 0.1983 - accuracy: 0.9624 - val_loss: 0.7790 - val_accuracy: 0.8000\n",
            "Epoch 22/100\n",
            "17/17 [==============================] - 0s 7ms/step - loss: 0.0946 - accuracy: 0.9774 - val_loss: 2.2371 - val_accuracy: 0.7333\n",
            "Epoch 23/100\n",
            "17/17 [==============================] - 0s 7ms/step - loss: 0.1311 - accuracy: 0.9699 - val_loss: 2.2345 - val_accuracy: 0.8000\n",
            "Epoch 24/100\n",
            "17/17 [==============================] - 0s 7ms/step - loss: 0.1576 - accuracy: 0.9474 - val_loss: 0.5631 - val_accuracy: 0.9333\n",
            "Epoch 25/100\n",
            "17/17 [==============================] - 0s 7ms/step - loss: 0.2092 - accuracy: 0.9173 - val_loss: 0.7717 - val_accuracy: 0.8000\n",
            "Epoch 26/100\n",
            "17/17 [==============================] - 0s 7ms/step - loss: 0.1208 - accuracy: 0.9549 - val_loss: 1.1207 - val_accuracy: 0.8667\n",
            "Epoch 27/100\n",
            "17/17 [==============================] - 0s 6ms/step - loss: 0.0277 - accuracy: 0.9850 - val_loss: 0.4291 - val_accuracy: 0.9333\n",
            "Epoch 28/100\n",
            "17/17 [==============================] - 0s 6ms/step - loss: 0.0071 - accuracy: 1.0000 - val_loss: 0.6764 - val_accuracy: 0.9333\n",
            "Epoch 29/100\n",
            "17/17 [==============================] - 0s 7ms/step - loss: 0.0129 - accuracy: 0.9925 - val_loss: 0.7990 - val_accuracy: 0.8667\n",
            "Epoch 30/100\n",
            "17/17 [==============================] - 0s 7ms/step - loss: 0.0015 - accuracy: 1.0000 - val_loss: 0.5862 - val_accuracy: 0.9333\n",
            "Epoch 31/100\n",
            "17/17 [==============================] - 0s 7ms/step - loss: 0.0349 - accuracy: 0.9850 - val_loss: 0.6453 - val_accuracy: 0.9333\n",
            "Epoch 32/100\n",
            "17/17 [==============================] - 0s 6ms/step - loss: 0.0061 - accuracy: 1.0000 - val_loss: 0.7217 - val_accuracy: 0.9333\n",
            "Epoch 33/100\n",
            "17/17 [==============================] - 0s 6ms/step - loss: 6.3053e-04 - accuracy: 1.0000 - val_loss: 0.8399 - val_accuracy: 0.9333\n",
            "Epoch 34/100\n",
            "17/17 [==============================] - 0s 6ms/step - loss: 9.1652e-04 - accuracy: 1.0000 - val_loss: 0.8049 - val_accuracy: 0.9333\n",
            "Epoch 35/100\n",
            "17/17 [==============================] - 0s 6ms/step - loss: 6.5532e-04 - accuracy: 1.0000 - val_loss: 0.7514 - val_accuracy: 0.9333\n",
            "Epoch 36/100\n",
            "17/17 [==============================] - 0s 7ms/step - loss: 5.0450e-04 - accuracy: 1.0000 - val_loss: 0.7333 - val_accuracy: 0.9333\n",
            "Epoch 37/100\n",
            "17/17 [==============================] - 0s 6ms/step - loss: 4.5674e-04 - accuracy: 1.0000 - val_loss: 0.7251 - val_accuracy: 0.9333\n",
            "Epoch 38/100\n",
            "17/17 [==============================] - 0s 6ms/step - loss: 4.2532e-04 - accuracy: 1.0000 - val_loss: 0.7215 - val_accuracy: 0.9333\n",
            "Epoch 39/100\n",
            "17/17 [==============================] - 0s 7ms/step - loss: 4.0319e-04 - accuracy: 1.0000 - val_loss: 0.7194 - val_accuracy: 0.9333\n",
            "Epoch 40/100\n",
            "17/17 [==============================] - 0s 7ms/step - loss: 3.8732e-04 - accuracy: 1.0000 - val_loss: 0.7183 - val_accuracy: 0.9333\n",
            "Epoch 41/100\n",
            "17/17 [==============================] - 0s 6ms/step - loss: 3.7316e-04 - accuracy: 1.0000 - val_loss: 0.7140 - val_accuracy: 0.9333\n",
            "Epoch 42/100\n",
            "17/17 [==============================] - 0s 7ms/step - loss: 3.6019e-04 - accuracy: 1.0000 - val_loss: 0.7184 - val_accuracy: 0.9333\n",
            "Epoch 43/100\n",
            "17/17 [==============================] - 0s 6ms/step - loss: 3.4840e-04 - accuracy: 1.0000 - val_loss: 0.7192 - val_accuracy: 0.9333\n",
            "Epoch 44/100\n",
            "17/17 [==============================] - 0s 7ms/step - loss: 3.3844e-04 - accuracy: 1.0000 - val_loss: 0.7216 - val_accuracy: 0.9333\n",
            "Epoch 45/100\n",
            "17/17 [==============================] - 0s 7ms/step - loss: 3.2544e-04 - accuracy: 1.0000 - val_loss: 0.7259 - val_accuracy: 0.9333\n",
            "Epoch 46/100\n",
            "17/17 [==============================] - 0s 6ms/step - loss: 3.1859e-04 - accuracy: 1.0000 - val_loss: 0.7271 - val_accuracy: 0.9333\n",
            "Epoch 47/100\n",
            "17/17 [==============================] - 0s 7ms/step - loss: 3.1170e-04 - accuracy: 1.0000 - val_loss: 0.7297 - val_accuracy: 0.9333\n",
            "Epoch 48/100\n",
            "17/17 [==============================] - 0s 7ms/step - loss: 3.0536e-04 - accuracy: 1.0000 - val_loss: 0.7329 - val_accuracy: 0.9333\n",
            "Epoch 49/100\n",
            "17/17 [==============================] - 0s 6ms/step - loss: 2.9947e-04 - accuracy: 1.0000 - val_loss: 0.7344 - val_accuracy: 0.9333\n",
            "Epoch 50/100\n",
            "17/17 [==============================] - 0s 6ms/step - loss: 2.8889e-04 - accuracy: 1.0000 - val_loss: 0.7375 - val_accuracy: 0.9333\n",
            "Epoch 51/100\n",
            "17/17 [==============================] - 0s 6ms/step - loss: 2.8500e-04 - accuracy: 1.0000 - val_loss: 0.7431 - val_accuracy: 0.9333\n",
            "Epoch 52/100\n",
            "17/17 [==============================] - 0s 6ms/step - loss: 2.7815e-04 - accuracy: 1.0000 - val_loss: 0.7442 - val_accuracy: 0.9333\n",
            "Epoch 53/100\n",
            "17/17 [==============================] - 0s 6ms/step - loss: 2.7325e-04 - accuracy: 1.0000 - val_loss: 0.7441 - val_accuracy: 0.9333\n",
            "Epoch 54/100\n",
            "17/17 [==============================] - 0s 6ms/step - loss: 2.6617e-04 - accuracy: 1.0000 - val_loss: 0.7477 - val_accuracy: 0.9333\n",
            "Epoch 55/100\n",
            "17/17 [==============================] - 0s 6ms/step - loss: 2.6141e-04 - accuracy: 1.0000 - val_loss: 0.7519 - val_accuracy: 0.9333\n",
            "Epoch 56/100\n",
            "17/17 [==============================] - 0s 6ms/step - loss: 2.5496e-04 - accuracy: 1.0000 - val_loss: 0.7562 - val_accuracy: 0.9333\n",
            "Epoch 57/100\n",
            "17/17 [==============================] - 0s 6ms/step - loss: 2.4932e-04 - accuracy: 1.0000 - val_loss: 0.7569 - val_accuracy: 0.9333\n",
            "Epoch 58/100\n",
            "17/17 [==============================] - 0s 6ms/step - loss: 2.4459e-04 - accuracy: 1.0000 - val_loss: 0.7597 - val_accuracy: 0.9333\n",
            "Epoch 59/100\n",
            "17/17 [==============================] - 0s 6ms/step - loss: 2.3921e-04 - accuracy: 1.0000 - val_loss: 0.7648 - val_accuracy: 0.9333\n",
            "Epoch 60/100\n",
            "17/17 [==============================] - 0s 7ms/step - loss: 2.3480e-04 - accuracy: 1.0000 - val_loss: 0.7647 - val_accuracy: 0.9333\n",
            "Epoch 61/100\n",
            "17/17 [==============================] - 0s 6ms/step - loss: 2.3051e-04 - accuracy: 1.0000 - val_loss: 0.7694 - val_accuracy: 0.9333\n",
            "Epoch 62/100\n",
            "17/17 [==============================] - 0s 6ms/step - loss: 2.2651e-04 - accuracy: 1.0000 - val_loss: 0.7692 - val_accuracy: 0.9333\n",
            "Epoch 63/100\n",
            "17/17 [==============================] - 0s 6ms/step - loss: 2.2045e-04 - accuracy: 1.0000 - val_loss: 0.7725 - val_accuracy: 0.9333\n",
            "Epoch 64/100\n",
            "17/17 [==============================] - 0s 6ms/step - loss: 2.1734e-04 - accuracy: 1.0000 - val_loss: 0.7726 - val_accuracy: 0.9333\n",
            "Epoch 65/100\n",
            "17/17 [==============================] - 0s 6ms/step - loss: 2.1316e-04 - accuracy: 1.0000 - val_loss: 0.7718 - val_accuracy: 0.9333\n",
            "Epoch 66/100\n",
            "17/17 [==============================] - 0s 7ms/step - loss: 2.0998e-04 - accuracy: 1.0000 - val_loss: 0.7801 - val_accuracy: 0.9333\n",
            "Epoch 67/100\n",
            "17/17 [==============================] - 0s 6ms/step - loss: 2.0491e-04 - accuracy: 1.0000 - val_loss: 0.7847 - val_accuracy: 0.9333\n",
            "Epoch 68/100\n",
            "17/17 [==============================] - 0s 6ms/step - loss: 2.0170e-04 - accuracy: 1.0000 - val_loss: 0.7829 - val_accuracy: 0.9333\n",
            "Epoch 69/100\n",
            "17/17 [==============================] - 0s 6ms/step - loss: 1.9767e-04 - accuracy: 1.0000 - val_loss: 0.7856 - val_accuracy: 0.9333\n",
            "Epoch 70/100\n",
            "17/17 [==============================] - 0s 7ms/step - loss: 1.9479e-04 - accuracy: 1.0000 - val_loss: 0.7888 - val_accuracy: 0.9333\n",
            "Epoch 71/100\n",
            "17/17 [==============================] - 0s 6ms/step - loss: 1.9273e-04 - accuracy: 1.0000 - val_loss: 0.7871 - val_accuracy: 0.9333\n",
            "Epoch 72/100\n",
            "17/17 [==============================] - 0s 6ms/step - loss: 1.8809e-04 - accuracy: 1.0000 - val_loss: 0.7900 - val_accuracy: 0.9333\n",
            "Epoch 73/100\n",
            "17/17 [==============================] - 0s 6ms/step - loss: 1.8501e-04 - accuracy: 1.0000 - val_loss: 0.7909 - val_accuracy: 0.9333\n",
            "Epoch 74/100\n",
            "17/17 [==============================] - 0s 6ms/step - loss: 1.8242e-04 - accuracy: 1.0000 - val_loss: 0.7931 - val_accuracy: 0.9333\n",
            "Epoch 75/100\n",
            "17/17 [==============================] - 0s 6ms/step - loss: 1.8025e-04 - accuracy: 1.0000 - val_loss: 0.7972 - val_accuracy: 0.9333\n",
            "Epoch 76/100\n",
            "17/17 [==============================] - 0s 7ms/step - loss: 1.7875e-04 - accuracy: 1.0000 - val_loss: 0.7946 - val_accuracy: 0.9333\n",
            "Epoch 77/100\n",
            "17/17 [==============================] - 0s 6ms/step - loss: 1.7541e-04 - accuracy: 1.0000 - val_loss: 0.7965 - val_accuracy: 0.9333\n",
            "Epoch 78/100\n",
            "17/17 [==============================] - 0s 6ms/step - loss: 1.7262e-04 - accuracy: 1.0000 - val_loss: 0.7971 - val_accuracy: 0.9333\n",
            "Epoch 79/100\n",
            "17/17 [==============================] - 0s 6ms/step - loss: 1.7202e-04 - accuracy: 1.0000 - val_loss: 0.7959 - val_accuracy: 0.9333\n",
            "Epoch 80/100\n",
            "17/17 [==============================] - 0s 6ms/step - loss: 1.6767e-04 - accuracy: 1.0000 - val_loss: 0.8015 - val_accuracy: 0.9333\n",
            "Epoch 81/100\n",
            "17/17 [==============================] - 0s 6ms/step - loss: 1.6589e-04 - accuracy: 1.0000 - val_loss: 0.8050 - val_accuracy: 0.9333\n",
            "Epoch 82/100\n",
            "17/17 [==============================] - 0s 7ms/step - loss: 1.6473e-04 - accuracy: 1.0000 - val_loss: 0.8031 - val_accuracy: 0.9333\n",
            "Epoch 83/100\n",
            "17/17 [==============================] - 0s 7ms/step - loss: 1.6271e-04 - accuracy: 1.0000 - val_loss: 0.8019 - val_accuracy: 0.9333\n",
            "Epoch 84/100\n",
            "17/17 [==============================] - 0s 6ms/step - loss: 1.6025e-04 - accuracy: 1.0000 - val_loss: 0.8051 - val_accuracy: 0.9333\n",
            "Epoch 85/100\n",
            "17/17 [==============================] - 0s 7ms/step - loss: 1.5889e-04 - accuracy: 1.0000 - val_loss: 0.8040 - val_accuracy: 0.9333\n",
            "Epoch 86/100\n",
            "17/17 [==============================] - 0s 6ms/step - loss: 1.5692e-04 - accuracy: 1.0000 - val_loss: 0.8028 - val_accuracy: 0.9333\n",
            "Epoch 87/100\n",
            "17/17 [==============================] - 0s 6ms/step - loss: 1.5485e-04 - accuracy: 1.0000 - val_loss: 0.8046 - val_accuracy: 0.9333\n",
            "Epoch 88/100\n",
            "17/17 [==============================] - 0s 6ms/step - loss: 1.5431e-04 - accuracy: 1.0000 - val_loss: 0.8047 - val_accuracy: 0.9333\n",
            "Epoch 89/100\n",
            "17/17 [==============================] - 0s 6ms/step - loss: 1.5194e-04 - accuracy: 1.0000 - val_loss: 0.8077 - val_accuracy: 0.9333\n",
            "Epoch 90/100\n",
            "17/17 [==============================] - 0s 6ms/step - loss: 1.5051e-04 - accuracy: 1.0000 - val_loss: 0.8066 - val_accuracy: 0.9333\n",
            "Epoch 91/100\n",
            "17/17 [==============================] - 0s 6ms/step - loss: 1.4879e-04 - accuracy: 1.0000 - val_loss: 0.8069 - val_accuracy: 0.9333\n",
            "Epoch 92/100\n",
            "17/17 [==============================] - 0s 6ms/step - loss: 1.4767e-04 - accuracy: 1.0000 - val_loss: 0.8084 - val_accuracy: 0.9333\n",
            "Epoch 93/100\n",
            "17/17 [==============================] - 0s 6ms/step - loss: 1.4603e-04 - accuracy: 1.0000 - val_loss: 0.8100 - val_accuracy: 0.9333\n",
            "Epoch 94/100\n",
            "17/17 [==============================] - 0s 6ms/step - loss: 1.4442e-04 - accuracy: 1.0000 - val_loss: 0.8078 - val_accuracy: 0.9333\n",
            "Epoch 95/100\n",
            "17/17 [==============================] - 0s 6ms/step - loss: 1.4284e-04 - accuracy: 1.0000 - val_loss: 0.8087 - val_accuracy: 0.9333\n",
            "Epoch 96/100\n",
            "17/17 [==============================] - 0s 6ms/step - loss: 1.4190e-04 - accuracy: 1.0000 - val_loss: 0.8099 - val_accuracy: 0.9333\n",
            "Epoch 97/100\n",
            "17/17 [==============================] - 0s 6ms/step - loss: 1.3965e-04 - accuracy: 1.0000 - val_loss: 0.8128 - val_accuracy: 0.9333\n",
            "Epoch 98/100\n",
            "17/17 [==============================] - 0s 6ms/step - loss: 1.3893e-04 - accuracy: 1.0000 - val_loss: 0.8116 - val_accuracy: 0.9333\n",
            "Epoch 99/100\n",
            "17/17 [==============================] - 0s 6ms/step - loss: 1.3729e-04 - accuracy: 1.0000 - val_loss: 0.8151 - val_accuracy: 0.9333\n",
            "Epoch 100/100\n",
            "17/17 [==============================] - 0s 6ms/step - loss: 1.3572e-04 - accuracy: 1.0000 - val_loss: 0.8133 - val_accuracy: 0.9333\n"
          ]
        }
      ],
      "source": [
        "history=model.fit(x_train, y_train, batch_size=8, epochs=100, validation_split=0.1)"
      ]
    },
    {
      "cell_type": "code",
      "execution_count": 15,
      "metadata": {
        "colab": {
          "base_uri": "https://localhost:8080/",
          "height": 573
        },
        "id": "0U5dpaSddCgY",
        "outputId": "1eb28836-a180-46f7-b854-0a2cbac2d8fb"
      },
      "outputs": [
        {
          "data": {
            "image/png": "[encoded data removed]",
            "text/plain": [
              "<Figure size 432x288 with 1 Axes>"
            ]
          },
          "metadata": {
            "needs_background": "light"
          },
          "output_type": "display_data"
        },
        {
          "data": {
            "image/png": "[encoded data removed]",
            "text/plain": [
              "<Figure size 432x288 with 1 Axes>"
            ]
          },
          "metadata": {
            "needs_background": "light"
          },
          "output_type": "display_data"
        }
      ],
      "source": [
        "import matplotlib.pyplot as plt\n",
        "plt.plot(history.history['accuracy'])\n",
        "plt.plot(history.history['val_accuracy'])\n",
        "plt.title('accuray')\n",
        "plt.ylabel('accuray')\n",
        "plt.xlabel('epoch')\n",
        "plt.legend(['train', 'val'])\n",
        "plt.show()\n",
        "plt.plot(history.history['loss'])\n",
        "plt.plot(history.history['val_loss'])\n",
        "plt.title('loss')\n",
        "plt.ylabel('loss')\n",
        "plt.xlabel('epoch')\n",
        "plt.legend(['train', 'val'])\n",
        "plt.show()"
      ]
    },
    {
      "cell_type": "code",
      "execution_count": 16,
      "metadata": {
        "colab": {
          "base_uri": "https://localhost:8080/"
        },
        "id": "WnIv5B9E7KE7",
        "outputId": "6f40ff0a-848b-41df-9e8c-2b922673fd0d"
      },
      "outputs": [
        {
          "name": "stdout",
          "output_type": "stream",
          "text": [
            "3/3 [==============================] - 0s 55ms/step - loss: 0.1296 - accuracy: 0.9412\n",
            "score: [0.12956219911575317, 0.9411764740943909]\n"
          ]
        }
      ],
      "source": [
        "score = model.evaluate(x_test, y_test, batch_size=8)\n",
        "print(\"score:\", score)"
      ]
    }
  ],
  "metadata": {
    "colab": {
      "collapsed_sections": [],
      "name": "digits_MLP.ipynb",
      "provenance": []
    },
    "kernelspec": {
      "display_name": "Python 3",
      "name": "python3"
    },
    "language_info": {
      "codemirror_mode": {
        "name": "ipython",
        "version": 3
      },
      "file_extension": ".py",
      "mimetype": "text/x-python",
      "name": "python",
      "nbconvert_exporter": "python",
      "pygments_lexer": "ipython3",
      "version": "3.8.9"
    }
  },
  "nbformat": 4,
  "nbformat_minor": 0
}
